{
  "nbformat": 4,
  "nbformat_minor": 0,
  "metadata": {
    "colab": {
      "provenance": [],
      "authorship_tag": "ABX9TyMyoSbwuPPlWEYCUujWNcpB",
      "include_colab_link": true
    },
    "kernelspec": {
      "name": "python3",
      "display_name": "Python 3"
    },
    "language_info": {
      "name": "python"
    }
  },
  "cells": [
    {
      "cell_type": "markdown",
      "metadata": {
        "id": "view-in-github",
        "colab_type": "text"
      },
      "source": [
        "<a href=\"https://colab.research.google.com/github/kellyortiz/aula-Estruturas-de-Dados-em-Python/blob/main/pulandoEntreNuvens.ipynb\" target=\"_parent\"><img src=\"https://colab.research.google.com/assets/colab-badge.svg\" alt=\"Open In Colab\"/></a>"
      ]
    },
    {
      "cell_type": "markdown",
      "source": [],
      "metadata": {
        "id": "PrRzN_Xyr3X5"
      }
    },
    {
      "cell_type": "markdown",
      "source": [
        "## Desafio: Pulando entre Nuvens ☁️☁️\n",
        "\n",
        "Joana precisa atravessar uma sequência de nuvens, representadas por uma lista de inteiros. Cada nuvem pode ser:\n",
        "\n",
        "- `0`: nuvem branca (segura)\n",
        "- `1`: nuvem cinza (perigosa)\n",
        "\n",
        "Joana começa na primeira nuvem (índice 0) e deseja chegar até a última nuvem (último índice da lista). Ela pode se mover:\n",
        "\n",
        "- Pulando **uma nuvem** (índice +1)\n",
        "- Ou pulando **duas nuvens** (índice +2)\n",
        "\n",
        "### Objetivo:\n",
        "Implementar uma função `pular_nuvens(nuvens)` que retorne o **número mínimo de saltos** que Joana precisa dar para chegar até o final, **evitando todas as nuvens perigosas** (`1`)."
      ],
      "metadata": {
        "id": "lO45u5Mqr5kn"
      }
    },
    {
      "cell_type": "code",
      "execution_count": 1,
      "metadata": {
        "id": "bYV1igUMr2Ih"
      },
      "outputs": [],
      "source": [
        "def pular_nuvens(nuvens):\n",
        "    saltos = 0\n",
        "    indice = 0\n",
        "\n",
        "    while indice < (len(nuvens) - 2):\n",
        "        if nuvens[indice + 2] != 1:\n",
        "            saltos += 1\n",
        "            indice += 2\n",
        "        else:\n",
        "            saltos += 1\n",
        "            indice += 1\n",
        "\n",
        "    if indice < len(nuvens) - 1:\n",
        "        saltos += 1\n",
        "\n",
        "    return saltos"
      ]
    },
    {
      "cell_type": "code",
      "source": [
        "# Exemplo de teste\n",
        "nuvens = [0, 1, 0, 0, 0, 1, 0]\n",
        "print(\"Número mínimo de saltos:\", pular_nuvens(nuvens))"
      ],
      "metadata": {
        "colab": {
          "base_uri": "https://localhost:8080/"
        },
        "id": "7I7q2mjMsMeR",
        "outputId": "b633dcf2-fa12-4616-9ed2-0d4a3314bb8b"
      },
      "execution_count": 2,
      "outputs": [
        {
          "output_type": "stream",
          "name": "stdout",
          "text": [
            "Número mínimo de saltos: 3\n"
          ]
        }
      ]
    }
  ]
}