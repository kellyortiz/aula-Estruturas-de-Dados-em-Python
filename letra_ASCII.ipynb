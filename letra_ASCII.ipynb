{
  "nbformat": 4,
  "nbformat_minor": 0,
  "metadata": {
    "colab": {
      "provenance": [],
      "authorship_tag": "ABX9TyNGTTqPycZttUqcQ/XMB/ZC",
      "include_colab_link": true
    },
    "kernelspec": {
      "name": "python3",
      "display_name": "Python 3"
    },
    "language_info": {
      "name": "python"
    }
  },
  "cells": [
    {
      "cell_type": "markdown",
      "metadata": {
        "id": "view-in-github",
        "colab_type": "text"
      },
      "source": [
        "<a href=\"https://colab.research.google.com/github/kellyortiz/aula-Estruturas-de-Dados-em-Python/blob/main/letra_ASCII.ipynb\" target=\"_parent\"><img src=\"https://colab.research.google.com/assets/colab-badge.svg\" alt=\"Open In Colab\"/></a>"
      ]
    },
    {
      "cell_type": "markdown",
      "source": [
        "Crie um programa em Python que solicite ao usuário uma única letra como entrada e exiba:\n",
        "\n",
        "- O valor decimal (código ASCII ou Unicode) da letra;\n",
        "\n",
        "- O valor correspondente em hexadecimal;\n",
        "\n",
        "- O valor correspondente em binário.\n",
        "\n",
        "Regras:\n",
        "\n",
        "1. O programa deve considerar apenas o primeiro caractere digitado.\n",
        "\n",
        "2. Utilize as funções ord(), hex() e bin() para realizar as conversões."
      ],
      "metadata": {
        "id": "XsQocKZ9RWZ8"
      }
    },
    {
      "cell_type": "code",
      "execution_count": 1,
      "metadata": {
        "colab": {
          "base_uri": "https://localhost:8080/"
        },
        "id": "DwCXS8OFRGQg",
        "outputId": "5d9c87b9-bd17-41c7-eef0-bc4a0f6084b8"
      },
      "outputs": [
        {
          "output_type": "stream",
          "name": "stdout",
          "text": [
            "Digite uma letra: Z\n",
            "Letra: Z\n",
            "Decimal: 90\n",
            "Hexadecimal: 0x5a\n",
            "Binário: 0b1011010\n"
          ]
        }
      ],
      "source": [
        "letra = input(\"Digite uma letra: \")\n",
        "letra = letra[0]\n",
        "\n",
        "valor_ascii = ord(letra)\n",
        "\n",
        "print(f\"Letra: {letra}\")\n",
        "print(f\"Decimal: {valor_ascii}\")\n",
        "print(f\"Hexadecimal: {hex(valor_ascii)}\")\n",
        "print(f\"Binário: {bin(valor_ascii)}\")"
      ]
    }
  ]
}