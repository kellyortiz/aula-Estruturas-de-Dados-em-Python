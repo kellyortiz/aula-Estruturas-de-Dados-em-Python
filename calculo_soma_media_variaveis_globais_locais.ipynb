{
  "nbformat": 4,
  "nbformat_minor": 0,
  "metadata": {
    "colab": {
      "provenance": [],
      "authorship_tag": "ABX9TyMEsWd8SKWIA2EVnup06sg0",
      "include_colab_link": true
    },
    "kernelspec": {
      "name": "python3",
      "display_name": "Python 3"
    },
    "language_info": {
      "name": "python"
    }
  },
  "cells": [
    {
      "cell_type": "markdown",
      "metadata": {
        "id": "view-in-github",
        "colab_type": "text"
      },
      "source": [
        "<a href=\"https://colab.research.google.com/github/kellyortiz/aula-Estruturas-de-Dados-em-Python/blob/main/calculo_soma_media_variaveis_globais_locais.ipynb\" target=\"_parent\"><img src=\"https://colab.research.google.com/assets/colab-badge.svg\" alt=\"Open In Colab\"/></a>"
      ]
    },
    {
      "cell_type": "markdown",
      "source": [],
      "metadata": {
        "id": "2IipPCvqwQWB"
      }
    },
    {
      "cell_type": "markdown",
      "source": [
        "# Cálculo de Soma e Média Utilizando Variáveis Globais e Locais em Python\n",
        "\n",
        "Implemente um programa em Python que utilize variáveis globais e locais para realizar as seguintes operações:\n",
        "\n",
        "### 1. Variáveis Globais:\n",
        "- Crie três variáveis globais do tipo `float`, inicializadas com um valor padrão qualquer.\n",
        "\n",
        "### 2. Funções:\n",
        "- **Função `ler_numeros()`**: Esta função deve solicitar ao usuário que insira três números do tipo `float`. Ela deve ler os valores e armazená-los nas variáveis globais. Após isso, a função deve imprimir os números lidos na tela.\n",
        "\n",
        "- **Função `calcular_soma()`**: Esta função deve calcular a soma dos três números lidos. Utilize uma variável local para armazenar o resultado da soma. A função deve então imprimir o valor da soma na tela.\n",
        "\n",
        "- **Função `calcular_media()`**: Esta função deve calcular a média dos três números lidos. Utilize uma variável local para armazenar o resultado da média. A função deve então imprimir o valor da média na tela.\n",
        "\n",
        "### 3. Saída Esperada:\n",
        "O programa deve exibir a seguinte saída, baseada nos números inseridos pelo usuário:"
      ],
      "metadata": {
        "id": "TE90H1TKwRE6"
      }
    },
    {
      "cell_type": "code",
      "execution_count": 1,
      "metadata": {
        "colab": {
          "base_uri": "https://localhost:8080/"
        },
        "id": "mdA_7p4CwPkd",
        "outputId": "03e3d8da-5095-41b6-fe4b-e22c8e892600"
      },
      "outputs": [
        {
          "output_type": "stream",
          "name": "stdout",
          "text": [
            "Digite o 1° número: 1\n",
            "Digite o 2° número: 2\n",
            "Digite o 3° número: 3\n",
            "Os números lidos são: 1.0, 2.0, 3.0\n",
            "A soma é: 6.0\n",
            "A média é: 2.0\n"
          ]
        }
      ],
      "source": [
        "num1 = 0.0\n",
        "num2 = 0.0\n",
        "num3 = 0.0\n",
        "\n",
        "def ler_numeros():\n",
        "    global num1, num2, num3\n",
        "    num1 = float(input(\"Digite o 1° número: \"))\n",
        "    num2 = float(input(\"Digite o 2° número: \"))\n",
        "    num3 = float(input(\"Digite o 3° número: \"))\n",
        "    print(f\"Os números lidos são: {num1}, {num2}, {num3}\")\n",
        "\n",
        "def calcular_soma():\n",
        "    soma = num1 + num2 + num3\n",
        "    print(f\"A soma é: {soma}\")\n",
        "\n",
        "def calcular_media():\n",
        "    media = (num1 + num2 + num3) / 3\n",
        "    print(f\"A média é: {media}\")\n",
        "\n",
        "ler_numeros()\n",
        "calcular_soma()\n",
        "calcular_media()"
      ]
    }
  ]
}